{
 "cells": [
  {
   "cell_type": "code",
   "execution_count": 15,
   "id": "5fcb4f28-e364-4726-b451-85cc917fe1f5",
   "metadata": {},
   "outputs": [],
   "source": [
    "import pandas as pd\n",
    "import matplotlib.pyplot as plt"
   ]
  },
  {
   "cell_type": "code",
   "execution_count": 16,
   "id": "5571e68e",
   "metadata": {},
   "outputs": [],
   "source": [
    "sheets = ['PULSO', 'BRACO', 'OURO', 'BRACELET']\n",
    "data = {}\n",
    "\n",
    "# create a dictionary with the data from each sheet\n",
    "for sheet in sheets:\n",
    "    data[sheet] = pd.read_excel('dados.xlsx', sheet_name=sheet, index_col=0)"
   ]
  },
  {
   "cell_type": "code",
   "execution_count": 17,
   "id": "c545f8a8",
   "metadata": {
    "vscode": {
     "languageId": "ruby"
    }
   },
   "outputs": [],
   "source": [
    "# Lista contendo as medições de pulso de cada voluntário\n",
    "medicoes_pulso = []\n",
    "\n",
    "# Cria um DataFrame para cada voluntário com as medições de pulso\n",
    "for id_voluntario in data['PULSO'].index:\n",
    "    lexperimentos = []\n",
    "    lps = []\n",
    "    lpd = []\n",
    "    lpm = []\n",
    "    medicoes_pulso.append(pd.DataFrame(columns=['EXPERIMENTO', 'PS', 'PD', 'PM']))\n",
    "    for each in range(1, 11):\n",
    "        lexperimentos.append(each)\n",
    "        lps.append(data['PULSO'].loc[id_voluntario]['PS'+str(each)])\n",
    "        lpd.append(data['PULSO'].loc[id_voluntario]['PD'+str(each)])\n",
    "        lpm.append(data['PULSO'].loc[id_voluntario]['PM'+str(each)])\n",
    "\n",
    "    medicoes_pulso[id_voluntario]['EXPERIMENTO'] = lexperimentos\n",
    "    medicoes_pulso[id_voluntario]['PS'] = lps\n",
    "    medicoes_pulso[id_voluntario]['PD'] = lpd\n",
    "    medicoes_pulso[id_voluntario]['PM'] = lpm\n",
    "    medicoes_pulso[id_voluntario].set_index('EXPERIMENTO', inplace=True)"
   ]
  },
  {
   "cell_type": "code",
   "execution_count": 18,
   "id": "5b850874",
   "metadata": {
    "vscode": {
     "languageId": "ruby"
    }
   },
   "outputs": [],
   "source": [
    "# Lista contendo as medições de pulso de cada voluntário\n",
    "medicoes_braco = []\n",
    "\n",
    "# Cria um DataFrame para cada voluntário com as medições de pulso\n",
    "for id_voluntario in data['BRACO'].index:\n",
    "    lexperimentos = []\n",
    "    lps = []\n",
    "    lpd = []\n",
    "    lpm = []\n",
    "    medicoes_braco.append(pd.DataFrame(columns=['EXPERIMENTO', 'PS', 'PD', 'PM']))\n",
    "    for each in range(1, 11):\n",
    "        lexperimentos.append(each)\n",
    "        lps.append(data['BRACO'].loc[id_voluntario]['PS'+str(each)])\n",
    "        lpd.append(data['BRACO'].loc[id_voluntario]['PD'+str(each)])\n",
    "        lpm.append(data['BRACO'].loc[id_voluntario]['PM'+str(each)])\n",
    "\n",
    "    medicoes_braco[id_voluntario]['EXPERIMENTO'] = lexperimentos\n",
    "    medicoes_braco[id_voluntario]['PS'] = lps\n",
    "    medicoes_braco[id_voluntario]['PD'] = lpd\n",
    "    medicoes_braco[id_voluntario]['PM'] = lpm\n",
    "    medicoes_braco[id_voluntario].set_index('EXPERIMENTO', inplace=True)"
   ]
  },
  {
   "cell_type": "code",
   "execution_count": 19,
   "id": "e2da3ea7",
   "metadata": {
    "vscode": {
     "languageId": "ruby"
    }
   },
   "outputs": [],
   "source": [
    "# Lista contendo as medições de pulso de cada voluntário\n",
    "medicoes_ouro = []\n",
    "\n",
    "# Cria um DataFrame para cada voluntário com as medições de pulso\n",
    "for id_voluntario in data['OURO'].index:\n",
    "    lexperimentos = []\n",
    "    lps = []\n",
    "    lpd = []\n",
    "    lpm = []\n",
    "    medicoes_ouro.append(pd.DataFrame(columns=['EXPERIMENTO', 'PS', 'PD', 'PM']))\n",
    "    for each in range(1, 11):\n",
    "        lexperimentos.append(each)\n",
    "        lps.append(data['OURO'].loc[id_voluntario]['PS'+str(each)])\n",
    "        lpd.append(data['OURO'].loc[id_voluntario]['PD'+str(each)])\n",
    "        lpm.append(data['OURO'].loc[id_voluntario]['PM'+str(each)])\n",
    "\n",
    "    medicoes_ouro[id_voluntario]['EXPERIMENTO'] = lexperimentos\n",
    "    medicoes_ouro[id_voluntario]['PS'] = lps\n",
    "    medicoes_ouro[id_voluntario]['PD'] = lpd\n",
    "    medicoes_ouro[id_voluntario]['PM'] = lpm\n",
    "    medicoes_ouro[id_voluntario].set_index('EXPERIMENTO', inplace=True)"
   ]
  },
  {
   "cell_type": "code",
   "execution_count": 20,
   "id": "2d742ae5",
   "metadata": {
    "vscode": {
     "languageId": "ruby"
    }
   },
   "outputs": [],
   "source": [
    "# Lista contendo as medições de pulso de cada voluntário\n",
    "medicoes_bracelet = []\n",
    "\n",
    "# Cria um DataFrame para cada voluntário com as medições de pulso\n",
    "for id_voluntario in data['BRACELET'].index:\n",
    "    lexperimentos = []\n",
    "    lps = []\n",
    "    lpd = []\n",
    "    lpm = []\n",
    "    medicoes_bracelet.append(pd.DataFrame(columns=['EXPERIMENTO', 'PS', 'PD', 'PM']))\n",
    "    for each in range(1, 11):\n",
    "        lexperimentos.append(each)\n",
    "        lps.append(data['BRACELET'].loc[id_voluntario]['PS'+str(each)])\n",
    "        lpd.append(data['BRACELET'].loc[id_voluntario]['PD'+str(each)])\n",
    "        lpm.append(data['BRACELET'].loc[id_voluntario]['PM'+str(each)])\n",
    "\n",
    "    medicoes_bracelet[id_voluntario]['EXPERIMENTO'] = lexperimentos\n",
    "    medicoes_bracelet[id_voluntario]['PS'] = lps\n",
    "    medicoes_bracelet[id_voluntario]['PD'] = lpd\n",
    "    medicoes_bracelet[id_voluntario]['PM'] = lpm\n",
    "    medicoes_bracelet[id_voluntario].set_index('EXPERIMENTO', inplace=True)"
   ]
  },
  {
   "cell_type": "code",
   "execution_count": 21,
   "id": "f26d5f3d",
   "metadata": {},
   "outputs": [
    {
     "data": {
      "image/png": "[encoded data removed]",
      "text/plain": [
       "<Figure size 1500x480 with 4 Axes>"
      ]
     },
     "metadata": {},
     "output_type": "display_data"
    }
   ],
   "source": [
    "figure, axis = plt.subplots(1, 4)\n",
    "\n",
    "voluntario = 14\n",
    "\n",
    "axis[0].boxplot(medicoes_pulso[voluntario])\n",
    "axis[1].boxplot(medicoes_braco[voluntario])\n",
    "axis[2].boxplot(medicoes_ouro[voluntario])\n",
    "axis[3].boxplot(medicoes_bracelet[voluntario])\n",
    "\n",
    "figure.set_figwidth(15)\n",
    "\n",
    "plt.show()"
   ]
  },
  {
   "cell_type": "code",
   "execution_count": null,
   "id": "7cca1980",
   "metadata": {},
   "outputs": [],
   "source": []
  }
 ],
 "metadata": {
  "kernelspec": {
   "display_name": "Python 3",
   "language": "python",
   "name": "python3"
  },
  "language_info": {
   "codemirror_mode": {
    "name": "ipython",
    "version": 3
   },
   "file_extension": ".py",
   "mimetype": "text/x-python",
   "name": "python",
   "nbconvert_exporter": "python",
   "pygments_lexer": "ipython3",
   "version": "3.10.12"
  }
 },
 "nbformat": 4,
 "nbformat_minor": 5
}
